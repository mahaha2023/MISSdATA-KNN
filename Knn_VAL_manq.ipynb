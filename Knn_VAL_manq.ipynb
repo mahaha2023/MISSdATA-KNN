{
  "nbformat": 4,
  "nbformat_minor": 0,
  "metadata": {
    "colab": {
      "provenance": []
    },
    "kernelspec": {
      "name": "python3",
      "display_name": "Python 3"
    },
    "language_info": {
      "name": "python"
    }
  },
  "cells": [
    {
      "cell_type": "markdown",
      "source": [
        "## 1. Importation des bibliothèques nécessaires"
      ],
      "metadata": {
        "id": "fjjaOUFjYRDL"
      }
    },
    {
      "cell_type": "code",
      "source": [
        "import numpy as np\n",
        "import pandas as pd\n",
        "from sklearn.impute import KNNImputer\n",
        "from sklearn.preprocessing import MinMaxScaler\n"
      ],
      "metadata": {
        "id": "EY38Kos-XsJ0"
      },
      "execution_count": 38,
      "outputs": []
    },
    {
      "cell_type": "markdown",
      "source": [
        "## 2. Chargement des données"
      ],
      "metadata": {
        "id": "8dcEatDnYoS0"
      }
    },
    {
      "cell_type": "code",
      "source": [
        "# Exemple de données\n",
        "data = {\n",
        "    'Feature1': [1, 2, np.nan, 4, 5],\n",
        "    'Feature2': [7, np.nan, 9, 10, 11],\n",
        "    'Feature3': [np.nan, 1.5, 1.7, 1.8, np.nan]\n",
        "}\n",
        "df = pd.DataFrame(data)\n",
        "print(\"Données initiales avec valeurs manquantes :\\n\", df)\n"
      ],
      "metadata": {
        "colab": {
          "base_uri": "https://localhost:8080/"
        },
        "id": "fRD3psB0XsOi",
        "outputId": "4d5b0f7a-ccbf-4656-9a7e-37903674728c"
      },
      "execution_count": 39,
      "outputs": [
        {
          "output_type": "stream",
          "name": "stdout",
          "text": [
            "Données initiales avec valeurs manquantes :\n",
            "    Feature1  Feature2  Feature3\n",
            "0       1.0       7.0       NaN\n",
            "1       2.0       NaN       1.5\n",
            "2       NaN       9.0       1.7\n",
            "3       4.0      10.0       1.8\n",
            "4       5.0      11.0       NaN\n"
          ]
        }
      ]
    },
    {
      "cell_type": "markdown",
      "source": [
        "## 3.Normalisez les données"
      ],
      "metadata": {
        "id": "M3Jic98hcTBG"
      }
    },
    {
      "cell_type": "code",
      "source": [
        "scaler = MinMaxScaler()\n",
        "scaled_data = scaler.fit_transform(df)\n"
      ],
      "metadata": {
        "id": "eavEr7vfXsRu"
      },
      "execution_count": 40,
      "outputs": []
    },
    {
      "cell_type": "markdown",
      "source": [
        "## 4. Appliquer KNN pour imputer les valeurs manquantes"
      ],
      "metadata": {
        "id": "pqmGREu7cvd8"
      }
    },
    {
      "cell_type": "code",
      "source": [
        "# Initialisation de KNNImputer\n",
        "imputer = KNNImputer(n_neighbors=3, weights='distance', metric='nan_euclidean')\n",
        "\n",
        "# Imputation\n",
        "imputed_data = imputer.fit_transform(scaled_data)\n",
        "\n",
        "# Convertir les résultats en DataFrame pour interprétation\n",
        "imputed_df = pd.DataFrame(imputed_data, columns=df.columns)\n",
        "print(\"\\nDonnées après imputation KNN :\\n\", imputed_df.round(1))\n",
        "\n",
        "\n"
      ],
      "metadata": {
        "colab": {
          "base_uri": "https://localhost:8080/"
        },
        "id": "zbmVIfHVXsVF",
        "outputId": "0e6d7b29-9cd6-4660-abfe-5e690de9bff2"
      },
      "execution_count": 41,
      "outputs": [
        {
          "output_type": "stream",
          "name": "stdout",
          "text": [
            "\n",
            "Données après imputation KNN :\n",
            "    Feature1  Feature2  Feature3\n",
            "0       0.0       0.0       0.4\n",
            "1       0.2       0.3       0.0\n",
            "2       0.6       0.5       0.7\n",
            "3       0.8       0.8       1.0\n",
            "4       1.0       1.0       0.7\n"
          ]
        }
      ]
    },
    {
      "cell_type": "markdown",
      "source": [
        "## 5. Annuler la normalisation"
      ],
      "metadata": {
        "id": "FlCg2ASHeqQb"
      }
    },
    {
      "cell_type": "code",
      "source": [
        "# Inverser la normalisation\n",
        "original_scale_data = scaler.inverse_transform(imputed_data)\n",
        "original_df = pd.DataFrame(original_scale_data, columns=df.columns)\n",
        "print(\"\\nDonnées sur leur échelle d'origine :\\n\", original_df.round(1), print(\"Données initiales avec valeurs manquantes :\\n\", df))\n"
      ],
      "metadata": {
        "colab": {
          "base_uri": "https://localhost:8080/"
        },
        "id": "zgXHJpxtXsYQ",
        "outputId": "a357a3b1-3dd8-4524-d82c-e14bd9fb4f57"
      },
      "execution_count": 42,
      "outputs": [
        {
          "output_type": "stream",
          "name": "stdout",
          "text": [
            "Données initiales avec valeurs manquantes :\n",
            "    Feature1  Feature2  Feature3\n",
            "0       1.0       7.0       NaN\n",
            "1       2.0       NaN       1.5\n",
            "2       NaN       9.0       1.7\n",
            "3       4.0      10.0       1.8\n",
            "4       5.0      11.0       NaN\n",
            "\n",
            "Données sur leur échelle d'origine :\n",
            "    Feature1  Feature2  Feature3\n",
            "0       1.0       7.0       1.6\n",
            "1       2.0       8.2       1.5\n",
            "2       3.5       9.0       1.7\n",
            "3       4.0      10.0       1.8\n",
            "4       5.0      11.0       1.7 None\n"
          ]
        }
      ]
    }
  ]
}